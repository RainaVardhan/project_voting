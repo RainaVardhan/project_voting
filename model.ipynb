{
  "nbformat": 4,
  "nbformat_minor": 0,
  "metadata": {
    "colab": {
      "provenance": [],
      "include_colab_link": true
    },
    "kernelspec": {
      "name": "python3",
      "display_name": "Python 3"
    },
    "language_info": {
      "name": "python"
    }
  },
  "cells": [
    {
      "cell_type": "markdown",
      "metadata": {
        "id": "view-in-github",
        "colab_type": "text"
      },
      "source": [
        "<a href=\"https://colab.research.google.com/github/RainaVardhan/project_voting/blob/main/model.ipynb\" target=\"_parent\"><img src=\"https://colab.research.google.com/assets/colab-badge.svg\" alt=\"Open In Colab\"/></a>"
      ]
    },
    {
      "cell_type": "code",
      "execution_count": 2,
      "metadata": {
        "colab": {
          "base_uri": "https://localhost:8080/"
        },
        "id": "MBDpww3HekdG",
        "outputId": "262cca7a-7223-443e-8cee-6dc86ae709fc"
      },
      "outputs": [
        {
          "output_type": "stream",
          "name": "stdout",
          "text": [
            "Cloning into 'project_voting'...\n",
            "remote: Enumerating objects: 70, done.\u001b[K\n",
            "remote: Counting objects: 100% (8/8), done.\u001b[K\n",
            "remote: Compressing objects: 100% (5/5), done.\u001b[K\n",
            "remote: Total 70 (delta 5), reused 3 (delta 3), pack-reused 62\u001b[K\n",
            "Receiving objects: 100% (70/70), 31.37 MiB | 13.01 MiB/s, done.\n",
            "Resolving deltas: 100% (29/29), done.\n"
          ]
        }
      ],
      "source": [
        "! git clone https://github.com/DS3001/project_voting.git"
      ]
    },
    {
      "cell_type": "code",
      "source": [
        "import pandas as pd\n",
        "import numpy as np\n",
        "\n",
        "df = pd.read_csv('/content/project_voting/data/county_data/0002_ds250_20205_county_M.csv', encoding='ISO-8859-1') #asked chat how to fix encoding error\n",
        "df['U.S. citizen: Born in the US'] = df['AM0KM002']\n",
        "df['U.S. citizen: Born abroad'] = df['AM0KM004']\n",
        "df['U.S. citizen: Naturalized'] = df['AM0KM005']\n",
        "df['Male'] = df['AM8FM002']\n",
        "df['Female'] = df['AM8FM021']\n",
        "df['18 to 30 years'] = df['AM8FM009']+df['AM8FM028']\n",
        "df['35 to 64 years'] = df['AM8FM012']+df['AM8FM031']\n",
        "df['65 to 74 years'] = df['AM8FM015']+df['AM8FM034']\n",
        "df['75 years and over'] = df['AM8FM018']+df['AM8FM037']\n",
        "\n",
        "vars_to_keep = ['U.S. citizen: Born in the US', 'U.S. citizen: Born abroad', 'U.S. citizen: Naturalized', 'Male', 'Female', '18 to 30 years', '35 to 64 years', '65 to 74 years', '75 years and over']\n",
        "county_data = df[vars_to_keep]\n",
        "county_data = county_data.drop(df.index[0])\n",
        "county_data.head()\n",
        "\n",
        "county_data.isna().sum()\n",
        "county_data = county_data.dropna()\n",
        "county_data.isna().sum()\n",
        "print(county_data.head())\n"
      ],
      "metadata": {
        "colab": {
          "base_uri": "https://localhost:8080/"
        },
        "id": "zSO40Cu9g_Lm",
        "outputId": "49fc30bc-1458-4082-e406-5680471172f7"
      },
      "execution_count": 7,
      "outputs": [
        {
          "output_type": "stream",
          "name": "stdout",
          "text": [
            "  U.S. citizen: Born in the US U.S. citizen: Born abroad  \\\n",
            "1                          334                       188   \n",
            "2                          906                       374   \n",
            "3                          112                        53   \n",
            "4                          162                        78   \n",
            "5                          293                        91   \n",
            "\n",
            "  U.S. citizen: Naturalized Male Female 18 to 30 years 35 to 64 years  \\\n",
            "1                       228  250    244         187141         227165   \n",
            "2                       671  403    323         255172         337178   \n",
            "3                        95  231    124          18271          18189   \n",
            "4                        94  257    197          24688         256127   \n",
            "5                       267  197    179         148106          15796   \n",
            "\n",
            "  65 to 74 years 75 years and over  \n",
            "1           1384             15130  \n",
            "2          97113            163154  \n",
            "3            872              3641  \n",
            "4          62125             36149  \n",
            "5           8442              3395  \n"
          ]
        }
      ]
    }
  ]
}